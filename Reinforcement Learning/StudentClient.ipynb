{
 "cells": [
  {
   "cell_type": "markdown",
   "metadata": {},
   "source": [
    "# Student Client\n",
    "\n",
    "### Steps to Run with Reinforcement Agent.\n",
    "- 1. Add the RLAgent here\n",
    "- 2. Train the RLAgent/ You can train the RLAgent in some other notebook and store the results using pickle library in python. Then you can test your RLAgent with the server.\n",
    "- 3. Use the policy to run on the server.\n",
    "\n",
    "### DO NOT TRAIN THE MODEL WHILE RUNNING ON THE SERVER! \n"
   ]
  },
  {
   "cell_type": "code",
   "execution_count": null,
   "metadata": {
    "scrolled": false
   },
   "outputs": [],
   "source": [
    "import socket\n",
    "import os\n",
    "import subprocess\n",
    "import ast\n",
    "import pdb\n",
    "import numpy as np\n",
    "import time\n",
    "import pickle\n",
    "player = 'jjivraja' #enter unique name for your game\n",
    "s = socket.socket() \n",
    "# s.setsockopt(socket.SOL_SOCKET, socket.SO_REUSEADDR, 1)\n",
    "host = '100.24.254.170' # change ip addres to ip address of your computer or use 'localhost' to practice\n",
    "port = 9999\n",
    "\n",
    "def greedy(Q, s):\n",
    "    return np.argmax(Q[s])\n",
    "\n",
    "with (open(\"jeet.pickle\", \"rb\")) as openfile:\n",
    "    while True:\n",
    "        try:\n",
    "            objects = pickle.load(openfile)\n",
    "        except EOFError:\n",
    "            break\n",
    "\n",
    "s.connect((host, port))\n",
    "while True:\n",
    "    data = s.recv(1024)\n",
    "    if data.decode(\"utf-8\") == 'send':\n",
    "        s.send(str.encode( player))\n",
    "        client_response = str(s.recv(20480), \"utf-8\")\n",
    "        print(client_response, end=\"\")\n",
    "        break\n",
    "z=0\n",
    "while True:\n",
    "    data = s.recv(20480)\n",
    "    print(data,end=\".\")\n",
    "    if data.decode(\"utf-8\") == f'sendinfo':\n",
    "        s.send(str.encode(\"acknowledged_pick\"))\n",
    "        ##Here you will recieve information about the player such as card rank, card suit, stash score, \n",
    "        client_response = str(s.recv(20480), \"utf-8\")\n",
    "        print(client_response)\n",
    "#         action = np.random.randint(0, 2)\n",
    "        z=np.random.randint(0, 1)\n",
    "        action = greedy(objects,z)\n",
    "        print(\"action pick \",action)\n",
    "        s.send(str.encode( str(action)))\n",
    "    if data.decode(\"utf-8\") == f'sendaction_for_card_drop':\n",
    "        s.send(str.encode(\"acknowledged_drop\"))\n",
    "        ro=str(s.recv(20480), \"utf-8\")\n",
    "        ro=ast.literal_eval(ro)\n",
    "        print(\"action send for drop\")\n",
    "        print(ro)\n",
    "        #follow same procedure as abov to send observations to your agent\n",
    "        ###### Look at the above observations and action in variable action#####\n",
    "#         action = np.random.randint(0, 3)\n",
    "        z=np.random.randint(0, 2)\n",
    "        action = greedy(objects,z)\n",
    "        s.send(str.encode( str(action)))\n",
    "        print(\"action drop\",action)\n",
    "        \n",
    "    if data.decode(\"utf-8\") == 'gameover':\n",
    "        print(\"Game over wait for others to play and wait for results\")\n",
    "        break\n",
    "        \n",
    "    if data.decode(\"utf-8\") == 'round_over':\n",
    "        s.send(str.encode(\"acknowledged_round_over\"))\n",
    "        print('Round over')\n",
    "        client_response = str(s.recv(20480), \"utf-8\")\n",
    "        print(client_response, end=\"\")   "
   ]
  },
  {
   "cell_type": "code",
   "execution_count": null,
   "metadata": {},
   "outputs": [],
   "source": []
  }
 ],
 "metadata": {
  "anaconda-cloud": {},
  "kernelspec": {
   "display_name": "Python 3",
   "language": "python",
   "name": "python3"
  },
  "language_info": {
   "codemirror_mode": {
    "name": "ipython",
    "version": 3
   },
   "file_extension": ".py",
   "mimetype": "text/x-python",
   "name": "python",
   "nbconvert_exporter": "python",
   "pygments_lexer": "ipython3",
   "version": "3.6.9"
  }
 },
 "nbformat": 4,
 "nbformat_minor": 2
}
